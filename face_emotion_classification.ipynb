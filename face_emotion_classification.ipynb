{
  "nbformat": 4,
  "nbformat_minor": 0,
  "metadata": {
    "colab": {
      "name": "Final_Project_12162880_김설희.ipynb",
      "provenance": [],
      "collapsed_sections": []
    },
    "kernelspec": {
      "name": "python3",
      "display_name": "Python 3"
    },
    "accelerator": "GPU"
  },
  "cells": [
    {
      "cell_type": "markdown",
      "metadata": {
        "id": "J9Q82b2OUQul"
      },
      "source": [
        "# Imports"
      ]
    },
    {
      "cell_type": "code",
      "metadata": {
        "id": "FN0td-zMxioA"
      },
      "source": [
        "import csv\n",
        "import numpy as np\n",
        "import matplotlib.pyplot as plt\n",
        "%matplotlib inline\n",
        "\n",
        "from tensorflow.keras.models import Sequential\n",
        "from tensorflow.keras.layers import Dense, Dropout, Activation, Flatten\n",
        "from tensorflow.keras.layers import Conv2D, MaxPooling2D, BatchNormalization\n",
        "from tensorflow.keras.losses import categorical_crossentropy\n",
        "from tensorflow.keras.optimizers import Adam\n",
        "from tensorflow.keras.regularizers import l2\n",
        "from sklearn.model_selection import train_test_split"
      ],
      "execution_count": 1,
      "outputs": []
    },
    {
      "cell_type": "code",
      "metadata": {
        "id": "r1SawJ5aN7IA",
        "colab": {
          "base_uri": "https://localhost:8080/"
        },
        "outputId": "872650ba-4d3d-4bf2-e721-04d8994ac06d"
      },
      "source": [
        "# connect your google drive to access data\n",
        "from google.colab import drive\n",
        "drive.mount('/content/drive')"
      ],
      "execution_count": 2,
      "outputs": [
        {
          "output_type": "stream",
          "name": "stdout",
          "text": [
            "Mounted at /content/drive\n"
          ]
        }
      ]
    },
    {
      "cell_type": "code",
      "metadata": {
        "id": "I_WxH0dmxkzP"
      },
      "source": [
        "fer2013_dataset_file_path = 'drive/My Drive/Project/fer2013.csv'"
      ],
      "execution_count": 3,
      "outputs": []
    },
    {
      "cell_type": "code",
      "metadata": {
        "id": "yWKlKWUmxkw-"
      },
      "source": [
        "train_images = []\n",
        "train_labels = []\n",
        "\n",
        "val_images = []\n",
        "val_labels = []\n",
        "\n",
        "test_images = []\n",
        "test_labels = []\n",
        "\n",
        "with open(fer2013_dataset_file_path) as csv_file:\n",
        "  csv_reader = csv.reader(csv_file, delimiter=',')\n",
        "  for row_id, row in enumerate(csv_reader):\n",
        "    if row_id == 0:\n",
        "      continue\n",
        "    label = np.zeros(7)\n",
        "    label[int(row[0])] = 1\n",
        "\n",
        "    image = list(map(int, row[1].split(' ')))\n",
        "    \n",
        "    if row[2] == 'Training':\n",
        "      train_labels.append(label)\n",
        "      train_images.append(image)\n",
        "    elif row[2] == 'PublicTest':\n",
        "      test_labels.append(label)\n",
        "      test_images.append(image)\n",
        "    elif row[2] == 'PrivateTest':\n",
        "      val_labels.append(label)\n",
        "      val_images.append(image)\n",
        "\n",
        "train_labels = np.asarray(train_labels, dtype=np.float32)\n",
        "train_images = np.asarray(train_images, dtype=np.float32).reshape(-1, 48, 48, 1)\n",
        "\n",
        "val_labels = np.asarray(val_labels, dtype=np.float32)\n",
        "val_images = np.asarray(val_images, dtype=np.float32).reshape(-1, 48, 48, 1)\n",
        "\n",
        "test_labels = np.asarray(test_labels, dtype=np.float32)\n",
        "test_images = np.asarray(test_images, dtype=np.float32).reshape(-1, 48, 48, 1)\n"
      ],
      "execution_count": 4,
      "outputs": []
    },
    {
      "cell_type": "code",
      "source": [
        ""
      ],
      "metadata": {
        "id": "hgImm0qMlLjK"
      },
      "execution_count": 4,
      "outputs": []
    },
    {
      "cell_type": "code",
      "metadata": {
        "id": "PClDA3PExku0",
        "colab": {
          "base_uri": "https://localhost:8080/"
        },
        "outputId": "e55b381a-b0cc-49bf-8110-878ec5e33ec9"
      },
      "source": [
        "print('Train images:', train_images.shape)\n",
        "print('Train labels:', train_labels.shape)\n",
        "\n",
        "print('Val images:', val_images.shape)\n",
        "print('Val labels:', val_labels.shape)\n",
        "\n",
        "print('Test images:', test_images.shape)\n",
        "print('Test labels:', test_labels.shape)"
      ],
      "execution_count": 5,
      "outputs": [
        {
          "output_type": "stream",
          "name": "stdout",
          "text": [
            "Train images: (28709, 48, 48, 1)\n",
            "Train labels: (28709, 7)\n",
            "Val images: (3589, 48, 48, 1)\n",
            "Val labels: (3589, 7)\n",
            "Test images: (3589, 48, 48, 1)\n",
            "Test labels: (3589, 7)\n"
          ]
        }
      ]
    },
    {
      "cell_type": "code",
      "metadata": {
        "id": "y01HTLVFxkri"
      },
      "source": [
        "# normalization\n",
        "train_images /= 255\n",
        "val_images /= 255\n",
        "test_images /= 255"
      ],
      "execution_count": 6,
      "outputs": []
    },
    {
      "cell_type": "code",
      "metadata": {
        "id": "qDVE1HN81u6E"
      },
      "source": [
        ""
      ],
      "execution_count": 6,
      "outputs": []
    },
    {
      "cell_type": "markdown",
      "metadata": {
        "id": "FgZwcqlF1wGm"
      },
      "source": [
        "# Print Data Instance"
      ]
    },
    {
      "cell_type": "code",
      "metadata": {
        "id": "FSVn4EiW1yCy"
      },
      "source": [
        "emotions = {\n",
        "    0: 'Angry', \n",
        "    1: 'Disgust',\n",
        "    2: 'Fear', \n",
        "    3: 'Happy',\n",
        "    4: 'Sad', \n",
        "    5: 'Surprise', \n",
        "    6: 'Neutral'\n",
        "}"
      ],
      "execution_count": 7,
      "outputs": []
    },
    {
      "cell_type": "code",
      "metadata": {
        "id": "GAKK_t2_1yt5",
        "colab": {
          "base_uri": "https://localhost:8080/",
          "height": 340
        },
        "outputId": "dc0e65cd-0951-4c43-f984-c0a0f1f6cb68"
      },
      "source": [
        "index = 5\n",
        "print('Label array:', train_labels[index], '\\nLabel:', np.argmax(train_labels[index]),\n",
        "      '\\nEmotion:', emotions[np.argmax(train_labels[index])],\n",
        "      '\\nImage shape:', train_images[index].shape)\n",
        "plt.imshow(train_images[index].reshape(48, 48), cmap='gray')\n",
        "plt.show()"
      ],
      "execution_count": 8,
      "outputs": [
        {
          "output_type": "stream",
          "name": "stdout",
          "text": [
            "Label array: [0. 0. 1. 0. 0. 0. 0.] \n",
            "Label: 2 \n",
            "Emotion: Fear \n",
            "Image shape: (48, 48, 1)\n"
          ]
        },
        {
          "output_type": "display_data",
          "data": {
            "text/plain": [
              "<Figure size 432x288 with 1 Axes>"
            ],
            "image/png": "[encoded data removed]"
          },
          "metadata": {
            "needs_background": "light"
          }
        }
      ]
    },
    {
      "cell_type": "code",
      "metadata": {
        "id": "ll1MEjIs1y3d"
      },
      "source": [
        ""
      ],
      "execution_count": 8,
      "outputs": []
    },
    {
      "cell_type": "markdown",
      "metadata": {
        "id": "HjvULu3M3A-U"
      },
      "source": [
        "# Prepare Model"
      ]
    },
    {
      "cell_type": "code",
      "metadata": {
        "id": "ocLFyI9W2_xN"
      },
      "source": [
        "from keras.layers import Conv2D, LeakyReLU"
      ],
      "execution_count": 9,
      "outputs": []
    },
    {
      "cell_type": "code",
      "source": [
        "\n",
        "input_shape = (48, 48, 1)\n",
        "num_labels = 7\n",
        "\n",
        "num_features = 64\n",
        "\n",
        "model = Sequential()\n",
        "\n",
        "model.add(Conv2D(64, kernel_size=(5,5), input_shape=input_shape, activation='relu'))\n",
        "model.add(BatchNormalization())\n",
        "\n",
        "model.add(Conv2D(128, kernel_size=(3,3), activation='relu'))\n",
        "model.add(MaxPooling2D(pool_size=(2, 2), strides=(2, 2)))\n",
        "\n",
        "model.add(Conv2D(256, kernel_size=(3,3), activation='relu'))\n",
        "model.add(Conv2D(512, kernel_size=(3,3), activation='relu'))\n",
        "model.add(MaxPooling2D(pool_size=(2, 2), strides=(2, 2)))\n",
        "\n",
        "model.add(Conv2D(128, kernel_size=(3,3), activation='relu'))\n",
        "\n",
        "model.add(Dropout(0.7))\n",
        "\n",
        "model.add(Flatten())\n",
        "\n",
        "model.add(Dense(512, activation='relu'))\n",
        "model.add(Dense(512, activation='relu'))\n",
        "model.add(Dense(num_labels, activation='softmax'))\n",
        "\n",
        "model.summary()"
      ],
      "metadata": {
        "colab": {
          "base_uri": "https://localhost:8080/"
        },
        "id": "_nOWC4hXAqco",
        "outputId": "a5ef7a80-32a4-47d9-8570-ee1a8f275a9a"
      },
      "execution_count": 45,
      "outputs": [
        {
          "output_type": "stream",
          "name": "stdout",
          "text": [
            "Model: \"sequential_10\"\n",
            "_________________________________________________________________\n",
            " Layer (type)                Output Shape              Param #   \n",
            "=================================================================\n",
            " conv2d_50 (Conv2D)          (None, 44, 44, 64)        1664      \n",
            "                                                                 \n",
            " batch_normalization_10 (Bat  (None, 44, 44, 64)       256       \n",
            " chNormalization)                                                \n",
            "                                                                 \n",
            " conv2d_51 (Conv2D)          (None, 42, 42, 128)       73856     \n",
            "                                                                 \n",
            " max_pooling2d_20 (MaxPoolin  (None, 21, 21, 128)      0         \n",
            " g2D)                                                            \n",
            "                                                                 \n",
            " conv2d_52 (Conv2D)          (None, 19, 19, 256)       295168    \n",
            "                                                                 \n",
            " conv2d_53 (Conv2D)          (None, 17, 17, 512)       1180160   \n",
            "                                                                 \n",
            " max_pooling2d_21 (MaxPoolin  (None, 8, 8, 512)        0         \n",
            " g2D)                                                            \n",
            "                                                                 \n",
            " conv2d_54 (Conv2D)          (None, 6, 6, 128)         589952    \n",
            "                                                                 \n",
            " dropout_10 (Dropout)        (None, 6, 6, 128)         0         \n",
            "                                                                 \n",
            " flatten_10 (Flatten)        (None, 4608)              0         \n",
            "                                                                 \n",
            " dense_30 (Dense)            (None, 512)               2359808   \n",
            "                                                                 \n",
            " dense_31 (Dense)            (None, 512)               262656    \n",
            "                                                                 \n",
            " dense_32 (Dense)            (None, 7)                 3591      \n",
            "                                                                 \n",
            "=================================================================\n",
            "Total params: 4,767,111\n",
            "Trainable params: 4,766,983\n",
            "Non-trainable params: 128\n",
            "_________________________________________________________________\n"
          ]
        }
      ]
    },
    {
      "cell_type": "code",
      "metadata": {
        "id": "s6hBP7VF2_u9",
        "colab": {
          "base_uri": "https://localhost:8080/"
        },
        "outputId": "42f84606-5bc4-4050-8049-ac6c4e48fdce"
      },
      "source": [
        "batch_size = 512\n",
        "epochs = 23\n",
        "\n",
        "#Compliling the model with adam optimixer and categorical crossentropy loss\n",
        "model.compile(loss=categorical_crossentropy,\n",
        "              optimizer=Adam(learning_rate=0.001, beta_1=0.9, beta_2=0.999, epsilon=1e-7),\n",
        "              metrics=['accuracy'])\n",
        "\n",
        "#training the model\n",
        "train_history = model.fit(\n",
        "    train_images, train_labels, \n",
        "    batch_size=batch_size, \n",
        "    epochs=epochs, \n",
        "    validation_data=(val_images, val_labels), \n",
        "    verbose=1)"
      ],
      "execution_count": 46,
      "outputs": [
        {
          "output_type": "stream",
          "name": "stdout",
          "text": [
            "Epoch 1/23\n",
            "57/57 [==============================] - 11s 179ms/step - loss: 1.8409 - accuracy: 0.2356 - val_loss: 1.8537 - val_accuracy: 0.2449\n",
            "Epoch 2/23\n",
            "57/57 [==============================] - 10s 176ms/step - loss: 1.7327 - accuracy: 0.2947 - val_loss: 1.8263 - val_accuracy: 0.2449\n",
            "Epoch 3/23\n",
            "57/57 [==============================] - 10s 176ms/step - loss: 1.5900 - accuracy: 0.3763 - val_loss: 1.7769 - val_accuracy: 0.2934\n",
            "Epoch 4/23\n",
            "57/57 [==============================] - 10s 176ms/step - loss: 1.4623 - accuracy: 0.4341 - val_loss: 1.7851 - val_accuracy: 0.2870\n",
            "Epoch 5/23\n",
            "57/57 [==============================] - 10s 176ms/step - loss: 1.3909 - accuracy: 0.4617 - val_loss: 1.7867 - val_accuracy: 0.3199\n",
            "Epoch 6/23\n",
            "57/57 [==============================] - 10s 176ms/step - loss: 1.3177 - accuracy: 0.4932 - val_loss: 1.6241 - val_accuracy: 0.3823\n",
            "Epoch 7/23\n",
            "57/57 [==============================] - 10s 176ms/step - loss: 1.2774 - accuracy: 0.5119 - val_loss: 1.5727 - val_accuracy: 0.3867\n",
            "Epoch 8/23\n",
            "57/57 [==============================] - 10s 179ms/step - loss: 1.2213 - accuracy: 0.5302 - val_loss: 1.5149 - val_accuracy: 0.3926\n",
            "Epoch 9/23\n",
            "57/57 [==============================] - 10s 176ms/step - loss: 1.1881 - accuracy: 0.5437 - val_loss: 1.3155 - val_accuracy: 0.5091\n",
            "Epoch 10/23\n",
            "57/57 [==============================] - 10s 176ms/step - loss: 1.1526 - accuracy: 0.5603 - val_loss: 1.2409 - val_accuracy: 0.5347\n",
            "Epoch 11/23\n",
            "57/57 [==============================] - 10s 176ms/step - loss: 1.1199 - accuracy: 0.5734 - val_loss: 1.2374 - val_accuracy: 0.5344\n",
            "Epoch 12/23\n",
            "57/57 [==============================] - 10s 176ms/step - loss: 1.0980 - accuracy: 0.5814 - val_loss: 1.1751 - val_accuracy: 0.5478\n",
            "Epoch 13/23\n",
            "57/57 [==============================] - 10s 176ms/step - loss: 1.0734 - accuracy: 0.5895 - val_loss: 1.1307 - val_accuracy: 0.5715\n",
            "Epoch 14/23\n",
            "57/57 [==============================] - 10s 180ms/step - loss: 1.0500 - accuracy: 0.6007 - val_loss: 1.2369 - val_accuracy: 0.5297\n",
            "Epoch 15/23\n",
            "57/57 [==============================] - 10s 175ms/step - loss: 1.0213 - accuracy: 0.6150 - val_loss: 1.1209 - val_accuracy: 0.5737\n",
            "Epoch 16/23\n",
            "57/57 [==============================] - 10s 176ms/step - loss: 1.0100 - accuracy: 0.6168 - val_loss: 1.1070 - val_accuracy: 0.5779\n",
            "Epoch 17/23\n",
            "57/57 [==============================] - 10s 180ms/step - loss: 0.9640 - accuracy: 0.6358 - val_loss: 1.2137 - val_accuracy: 0.5478\n",
            "Epoch 18/23\n",
            "57/57 [==============================] - 10s 176ms/step - loss: 0.9388 - accuracy: 0.6447 - val_loss: 1.0881 - val_accuracy: 0.5885\n",
            "Epoch 19/23\n",
            "57/57 [==============================] - 10s 176ms/step - loss: 0.9258 - accuracy: 0.6500 - val_loss: 1.0948 - val_accuracy: 0.5815\n",
            "Epoch 20/23\n",
            "57/57 [==============================] - 10s 176ms/step - loss: 0.8893 - accuracy: 0.6649 - val_loss: 1.0616 - val_accuracy: 0.6035\n",
            "Epoch 21/23\n",
            "57/57 [==============================] - 10s 176ms/step - loss: 0.8504 - accuracy: 0.6819 - val_loss: 1.0725 - val_accuracy: 0.5968\n",
            "Epoch 22/23\n",
            "57/57 [==============================] - 10s 176ms/step - loss: 0.8159 - accuracy: 0.6920 - val_loss: 1.0675 - val_accuracy: 0.6063\n",
            "Epoch 23/23\n",
            "57/57 [==============================] - 10s 176ms/step - loss: 0.8060 - accuracy: 0.6961 - val_loss: 1.0671 - val_accuracy: 0.6147\n"
          ]
        }
      ]
    },
    {
      "cell_type": "code",
      "metadata": {
        "id": "Tsxo1EzP2_tB",
        "colab": {
          "base_uri": "https://localhost:8080/"
        },
        "outputId": "e15d9527-3bc1-4df3-aff8-5cf90fa0ad2a"
      },
      "source": [
        "\n",
        "loss, accuracy = model.evaluate(test_images, test_labels, verbose=1)\n",
        "print('Loss:', loss, '\\nAccuracy:', accuracy * 100, '%')"
      ],
      "execution_count": 47,
      "outputs": [
        {
          "output_type": "stream",
          "name": "stdout",
          "text": [
            "113/113 [==============================] - 1s 7ms/step - loss: 1.1108 - accuracy: 0.6030\n",
            "Loss: 1.1107871532440186 \n",
            "Accuracy: 60.29534935951233 %\n"
          ]
        }
      ]
    }
  ]
}